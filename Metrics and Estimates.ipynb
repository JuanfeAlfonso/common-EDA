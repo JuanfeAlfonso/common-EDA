{
 "cells": [
  {
   "cell_type": "markdown",
   "source": [
    "<h1> Metrics and Estimates </h1>"
   ],
   "metadata": {
    "collapsed": false
   }
  },
  {
   "cell_type": "markdown",
   "source": [
    "<h4> Mean </h4>\n",
    "\n",
    "The mean or average value is the sum of all values divided by the number of values. The formula to compute the mean for a set of n values is:\n",
    "<br><br>\n",
    "\n",
    "$\n",
    " Mean = \\bar{X} = \\frac{\\sum_{i=1}^{n} x_i }{n}\n",
    "$"
   ],
   "metadata": {
    "collapsed": false
   }
  },
  {
   "cell_type": "code",
   "execution_count": 1,
   "outputs": [],
   "source": [
    "from typing import List\n",
    "\n",
    "\n",
    "def mean(list_of_values: List[float]) -> float:\n",
    "    \"\"\"\n",
    "    Calculate the mean value from sample list\n",
    "    :param list_of_values: sample list\n",
    "    :return: mean value\n",
    "    \"\"\"\n",
    "    sum_values = sum(list_of_values)\n",
    "    number_of_values = len(list_of_values)\n",
    "    mean_value = sum_values/number_of_values\n",
    "    return mean_value"
   ],
   "metadata": {
    "collapsed": false
   }
  }
 ],
 "metadata": {
  "kernelspec": {
   "display_name": "Python 3",
   "language": "python",
   "name": "python3"
  },
  "language_info": {
   "codemirror_mode": {
    "name": "ipython",
    "version": 2
   },
   "file_extension": ".py",
   "mimetype": "text/x-python",
   "name": "python",
   "nbconvert_exporter": "python",
   "pygments_lexer": "ipython2",
   "version": "2.7.6"
  }
 },
 "nbformat": 4,
 "nbformat_minor": 0
}
